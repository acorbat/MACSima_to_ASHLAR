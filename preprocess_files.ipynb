{
 "cells": [
  {
   "cell_type": "markdown",
   "metadata": {},
   "source": [
    "# Preprocess Files\n",
    "\n",
    "MACSima has a preprocessing step yet the output appears to be files with different sizes that I could not concatenate or analyze as one single thing.\n",
    "\n",
    "Another option is to preprocess the raw files, stitch them together and register the channels using Ashlar. \n",
    "Raw files from MACSima come in two flavours: b and s.\n",
    "b corresponds to the image considered as background as it may have autofluorescence and previous not bleached signal, while s should be the corrected signal image.\n",
    "\n",
    "Ideally, we should be able to reconstruct the file naming pattern from the folders and make a single command that could be run with Ashlar to stitch and register the signal images."
   ]
  },
  {
   "cell_type": "code",
   "execution_count": null,
   "metadata": {},
   "outputs": [],
   "source": [
    "from pathlib import Path\n",
    "\n",
    "from preprocess import get_ashlar_command"
   ]
  },
  {
   "cell_type": "markdown",
   "metadata": {},
   "source": [
    "You can list below the paths to all folders that contain the separate folders for the raw data of each cycle."
   ]
  },
  {
   "cell_type": "code",
   "execution_count": null,
   "metadata": {},
   "outputs": [],
   "source": [
    "DATA_DIRS = [\n",
    "    Path(\"../../data/MACSIma/path/to/folder/RawData/R1/A1/ROI1\"),\n",
    "    Path(\"../../data/MACSIma/path/to/folder/RawData/R1/B1/ROI1\"),\n",
    "]"
   ]
  },
  {
   "cell_type": "markdown",
   "metadata": {},
   "source": [
    "For this to work correctly, you should have a ```fileseries_config.json``` file that contains the information to stitch the images and register them.\n",
    "It should look like the following:\n",
    "\n",
    "```\n",
    "{\"width\":10,\n",
    " \"height\":6,\n",
    " \"overlap\":0.15,\n",
    " \"pixel_size\":0.17,\n",
    " \"layout\":\"snake\",\n",
    " \"direction\":\"vertical\"}\n",
    "```\n",
    "\n",
    "Where width is the number of horizontal tiles; height is the number of vertical tiles; overlap is the percentage of overlap between tiles; pixel_size is the pixel size in microns; layout is the layout in which the tiling was performed and can be raster or snake; direction is the direction in which the tiling was performed and can be either vertical or horizontal."
   ]
  },
  {
   "cell_type": "code",
   "execution_count": null,
   "metadata": {},
   "outputs": [],
   "source": [
    "for image_path in DATA_DIRS:\n",
    "    !{get_ashlar_command(image_path)}"
   ]
  }
 ],
 "metadata": {
  "kernelspec": {
   "display_name": "Python 3",
   "language": "python",
   "name": "python3"
  },
  "language_info": {
   "codemirror_mode": {
    "name": "ipython",
    "version": 3
   },
   "file_extension": ".py",
   "mimetype": "text/x-python",
   "name": "python",
   "nbconvert_exporter": "python",
   "pygments_lexer": "ipython3",
   "version": "3.10.14"
  }
 },
 "nbformat": 4,
 "nbformat_minor": 2
}
